{
 "cells": [
  {
   "cell_type": "code",
   "execution_count": 34,
   "id": "01159a35-4386-40f4-b9db-656a6d76daf4",
   "metadata": {},
   "outputs": [
    {
     "ename": "SyntaxError",
     "evalue": "invalid syntax. Perhaps you forgot a comma? (837024050.py, line 12)",
     "output_type": "error",
     "traceback": [
      "\u001b[0;36m  Cell \u001b[0;32mIn[34], line 12\u001b[0;36m\u001b[0m\n\u001b[0;31m    print(\"module:\", df{'module'})\u001b[0m\n\u001b[0m                     ^\u001b[0m\n\u001b[0;31mSyntaxError\u001b[0m\u001b[0;31m:\u001b[0m invalid syntax. Perhaps you forgot a comma?\n"
     ]
    }
   ],
   "source": [
    "# create a DataFrame (table-like structure)\n",
    "\n",
    "Data = {\n",
    "'modules': ['database','python','web dev','software dev','start-up'],\n",
    "'Learners': ['Matthew','Jacob','Isiah','Praise','Evans'],\n",
    "'Score Test': ['89','78','67','55','70']\n",
    "}\n",
    "df=pd.DataFrame(data)\n",
    "\n",
    "print(df)\n",
    "#Access column\n",
    "print(\"module:\", df{'module'})\n"
   ]
  },
  {
   "cell_type": "code",
   "execution_count": null,
   "id": "8b4de581-044a-41e1-a5d8-04f89bfa651b",
   "metadata": {},
   "outputs": [],
   "source": []
  },
  {
   "cell_type": "code",
   "execution_count": null,
   "id": "f23e9833-a016-4a4b-b396-6857cb61fe4d",
   "metadata": {},
   "outputs": [],
   "source": []
  }
 ],
 "metadata": {
  "kernelspec": {
   "display_name": "anaconda-panel-2023.05-py310",
   "language": "python",
   "name": "conda-env-anaconda-panel-2023.05-py310-py"
  },
  "language_info": {
   "codemirror_mode": {
    "name": "ipython",
    "version": 3
   },
   "file_extension": ".py",
   "mimetype": "text/x-python",
   "name": "python",
   "nbconvert_exporter": "python",
   "pygments_lexer": "ipython3",
   "version": "3.11.5"
  }
 },
 "nbformat": 4,
 "nbformat_minor": 5
}
